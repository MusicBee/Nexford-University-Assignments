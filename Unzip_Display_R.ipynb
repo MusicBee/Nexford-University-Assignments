{
  "nbformat": 4,
  "nbformat_minor": 0,
  "metadata": {
    "colab": {
      "provenance": [],
      "authorship_tag": "ABX9TyPITq5FEhYCh/OoGeHrGCRC",
      "include_colab_link": true
    },
    "kernelspec": {
      "name": "ir",
      "display_name": "R"
    },
    "language_info": {
      "name": "R"
    }
  },
  "cells": [
    {
      "cell_type": "markdown",
      "metadata": {
        "id": "view-in-github",
        "colab_type": "text"
      },
      "source": [
        "<a href=\"https://colab.research.google.com/github/MusicBee/Nexford-University-Assignments/blob/main/Unzip_Display_R.ipynb\" target=\"_parent\"><img src=\"https://colab.research.google.com/assets/colab-badge.svg\" alt=\"Open In Colab\"/></a>"
      ]
    },
    {
      "cell_type": "code",
      "source": [
        "# Define the zip file name\n",
        "zip_file <- \"Employee Profile.zip\"\n",
        "output_dir <- \"Employee_Profile_Unzipped\"\n",
        "\n",
        "# Unzip contents into a new folder\n",
        "unzip(zip_file, exdir = output_dir)\n",
        "\n",
        "cat(\"Files extracted to:\", output_dir, \"\\n\")"
      ],
      "metadata": {
        "id": "TlDZGzlh836V"
      },
      "execution_count": null,
      "outputs": []
    },
    {
      "cell_type": "code",
      "source": [
        "# List all files inside the extracted folder\n",
        "files <- list.files(output_dir, full.names = TRUE)\n",
        "print(files)\n",
        "\n",
        "# Read one employee's profile\n",
        "employee_profile <- read.csv(files[1])  # replace index with desired file\n",
        "print(employee_profile)"
      ],
      "metadata": {
        "id": "3SUPCTCu9gsa"
      },
      "execution_count": null,
      "outputs": []
    },
    {
      "cell_type": "code",
      "source": [
        "# Load all employee profiles into a single data frame\n",
        "library(dplyr)\n",
        "\n",
        "all_profiles <- files %>%\n",
        "  lapply(read.csv) %>%\n",
        "  bind_rows()\n",
        "\n",
        "print(all_profiles)"
      ],
      "metadata": {
        "id": "ck3tThE29m2z"
      },
      "execution_count": null,
      "outputs": []
    }
  ]
}